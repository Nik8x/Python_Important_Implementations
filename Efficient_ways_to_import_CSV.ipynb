{
  "nbformat": 4,
  "nbformat_minor": 0,
  "metadata": {
    "colab": {
      "name": "Efficient ways to import CSV.ipynb",
      "version": "0.3.2",
      "provenance": [],
      "include_colab_link": true
    },
    "kernelspec": {
      "name": "python3",
      "display_name": "Python 3"
    }
  },
  "cells": [
    {
      "cell_type": "markdown",
      "metadata": {
        "id": "view-in-github",
        "colab_type": "text"
      },
      "source": [
        "<a href=\"https://colab.research.google.com/github/Nik8x/Python_Important_Implementations/blob/master/Efficient_ways_to_import_CSV.ipynb\" target=\"_parent\"><img src=\"https://colab.research.google.com/assets/colab-badge.svg\" alt=\"Open In Colab\"/></a>"
      ]
    },
    {
      "cell_type": "code",
      "metadata": {
        "id": "C82uM9EhEdgO",
        "colab_type": "code",
        "colab": {}
      },
      "source": [
        "import pandas as pd\n",
        "import time\n",
        "import csv\n",
        "import dask.dataframe"
      ],
      "execution_count": 0,
      "outputs": []
    },
    {
      "cell_type": "code",
      "metadata": {
        "id": "1lJGpabQSnSp",
        "colab_type": "code",
        "colab": {
          "base_uri": "https://localhost:8080/",
          "height": 207
        },
        "outputId": "eaa2b0cd-e5f9-46ca-ba05-6f809d280858"
      },
      "source": [
        "# download the file from link\n",
        "!wget \"https://data.cityofchicago.org/api/views/ijzp-q8t2/rows.csv?accessType=DOWNLOAD\""
      ],
      "execution_count": 19,
      "outputs": [
        {
          "output_type": "stream",
          "text": [
            "--2019-05-07 17:49:39--  https://data.cityofchicago.org/api/views/ijzp-q8t2/rows.csv?accessType=DOWNLOAD\n",
            "Resolving data.cityofchicago.org (data.cityofchicago.org)... 52.206.140.199, 52.206.68.26, 52.206.140.205\n",
            "Connecting to data.cityofchicago.org (data.cityofchicago.org)|52.206.140.199|:443... connected.\n",
            "HTTP request sent, awaiting response... 200 OK\n",
            "Length: unspecified [text/csv]\n",
            "Saving to: ‘rows.csv?accessType=DOWNLOAD’\n",
            "\n",
            "rows.csv?accessType     [   <=>              ]   1.68G  2.73MB/s    in 10m 31s \n",
            "\n",
            "2019-05-07 18:00:26 (2.73 MB/s) - ‘rows.csv?accessType=DOWNLOAD’ saved [1805263503]\n",
            "\n"
          ],
          "name": "stdout"
        }
      ]
    },
    {
      "cell_type": "code",
      "metadata": {
        "id": "jOBYjW5aenU9",
        "colab_type": "code",
        "colab": {}
      },
      "source": [
        "# to rename the file\n",
        "!mv rows.csv\\?accessType\\=DOWNLOAD rows.csv"
      ],
      "execution_count": 0,
      "outputs": []
    },
    {
      "cell_type": "code",
      "metadata": {
        "id": "T0Mb1HpOm8rv",
        "colab_type": "code",
        "colab": {
          "base_uri": "https://localhost:8080/",
          "height": 34
        },
        "outputId": "89031fe8-507f-4268-9366-f82cee1208a5"
      },
      "source": [
        "# file size\n",
        "!ls -l rows.csv -sh"
      ],
      "execution_count": 8,
      "outputs": [
        {
          "output_type": "stream",
          "text": [
            "1.7G -rw-r--r-- 1 root root 1.7G May  7 11:41 rows.csv\n"
          ],
          "name": "stdout"
        }
      ]
    },
    {
      "cell_type": "code",
      "metadata": {
        "id": "jDrvr6lxnE1f",
        "colab_type": "code",
        "colab": {
          "base_uri": "https://localhost:8080/",
          "height": 34
        },
        "outputId": "034f8b31-de30-4232-8d40-0fdd9fc8e1f0"
      },
      "source": [
        "# count number of lines in file\n",
        "!wc -l rows.csv"
      ],
      "execution_count": 9,
      "outputs": [
        {
          "output_type": "stream",
          "text": [
            "6861284 rows.csv\n"
          ],
          "name": "stdout"
        }
      ]
    },
    {
      "cell_type": "markdown",
      "metadata": {
        "id": "nA0U8VSwpohg",
        "colab_type": "text"
      },
      "source": [
        "**CSV reader**"
      ]
    },
    {
      "cell_type": "code",
      "metadata": {
        "id": "mwVg-M56Ufee",
        "colab_type": "code",
        "colab": {
          "base_uri": "https://localhost:8080/",
          "height": 34
        },
        "outputId": "8ce52a7f-dbf2-4c96-ea37-59aea42ad365"
      },
      "source": [
        "start_time = time.time()\n",
        "x1 = csv.DictReader(open(\"rows.csv\"))\n",
        "print(\"csv.DictReader\", (time.time() - start_time), \"seconds\")"
      ],
      "execution_count": 10,
      "outputs": [
        {
          "output_type": "stream",
          "text": [
            "csv.DictReader 0.001421213150024414 seconds\n"
          ],
          "name": "stdout"
        }
      ]
    },
    {
      "cell_type": "code",
      "metadata": {
        "id": "j3FAOnPgj5nQ",
        "colab_type": "code",
        "colab": {
          "base_uri": "https://localhost:8080/",
          "height": 34
        },
        "outputId": "2c96647a-0c5a-4092-c92f-38f958224e71"
      },
      "source": [
        "type(x1)"
      ],
      "execution_count": 11,
      "outputs": [
        {
          "output_type": "execute_result",
          "data": {
            "text/plain": [
              "csv.DictReader"
            ]
          },
          "metadata": {
            "tags": []
          },
          "execution_count": 11
        }
      ]
    },
    {
      "cell_type": "markdown",
      "metadata": {
        "id": "4VEAhdePkhLb",
        "colab_type": "text"
      },
      "source": [
        "**pd.read_csv**"
      ]
    },
    {
      "cell_type": "code",
      "metadata": {
        "id": "SUwS9j17hhqu",
        "colab_type": "code",
        "colab": {
          "base_uri": "https://localhost:8080/",
          "height": 34
        },
        "outputId": "7ed733fc-f9d8-459c-aa48-b71fd2ad8989"
      },
      "source": [
        "start_time = time.time()\n",
        "x2 = pd.read_csv(\"rows.csv\")\n",
        "print(\"pd.read_csv\", (time.time() - start_time), \"seconds\")"
      ],
      "execution_count": 4,
      "outputs": [
        {
          "output_type": "stream",
          "text": [
            "pd.read_csv 94.87558341026306 seconds\n"
          ],
          "name": "stdout"
        }
      ]
    },
    {
      "cell_type": "code",
      "metadata": {
        "id": "HJXJJAkej715",
        "colab_type": "code",
        "colab": {
          "base_uri": "https://localhost:8080/",
          "height": 34
        },
        "outputId": "f991d34c-2511-4259-8a23-247710fb1884"
      },
      "source": [
        "type(x2)"
      ],
      "execution_count": 19,
      "outputs": [
        {
          "output_type": "execute_result",
          "data": {
            "text/plain": [
              "pandas.core.frame.DataFrame"
            ]
          },
          "metadata": {
            "tags": []
          },
          "execution_count": 19
        }
      ]
    },
    {
      "cell_type": "markdown",
      "metadata": {
        "id": "DVE_L0EZpkLS",
        "colab_type": "text"
      },
      "source": [
        "**pd.read_csv chunk**"
      ]
    },
    {
      "cell_type": "code",
      "metadata": {
        "id": "9mqCNF7BhwV2",
        "colab_type": "code",
        "colab": {
          "base_uri": "https://localhost:8080/",
          "height": 34
        },
        "outputId": "8290e9cf-f393-4bab-e54c-722a46225847"
      },
      "source": [
        "start_time = time.time()\n",
        "x3 = pd.read_csv(\"rows.csv\", chunksize = 100000)\n",
        "print(\"pd.read_csv with chunksize\", (time.time() - start_time), \"seconds\")"
      ],
      "execution_count": 8,
      "outputs": [
        {
          "output_type": "stream",
          "text": [
            "pd.read_csv with chunksize 0.003618001937866211 seconds\n"
          ],
          "name": "stdout"
        }
      ]
    },
    {
      "cell_type": "code",
      "metadata": {
        "id": "mfPvTy8Ij9jv",
        "colab_type": "code",
        "colab": {
          "base_uri": "https://localhost:8080/",
          "height": 34
        },
        "outputId": "8de34524-85e4-4265-9223-97f11ca5aaab"
      },
      "source": [
        "type(x3)"
      ],
      "execution_count": 20,
      "outputs": [
        {
          "output_type": "execute_result",
          "data": {
            "text/plain": [
              "pandas.io.parsers.TextFileReader"
            ]
          },
          "metadata": {
            "tags": []
          },
          "execution_count": 20
        }
      ]
    },
    {
      "cell_type": "markdown",
      "metadata": {
        "id": "tnYg8tSrphry",
        "colab_type": "text"
      },
      "source": [
        "**Dask**"
      ]
    },
    {
      "cell_type": "code",
      "metadata": {
        "id": "NTT8TM9ziWr5",
        "colab_type": "code",
        "colab": {
          "base_uri": "https://localhost:8080/",
          "height": 34
        },
        "outputId": "d46c4be6-1e74-4f08-ffb2-d93106c27ab2"
      },
      "source": [
        "start_time = time.time()\n",
        "x4 = dask.dataframe.read_csv(\"rows.csv\")\n",
        "print(\"dask.dataframe\", (time.time() - start_time), \"seconds\")"
      ],
      "execution_count": 9,
      "outputs": [
        {
          "output_type": "stream",
          "text": [
            "dask.dataframe 0.06951093673706055 seconds\n"
          ],
          "name": "stdout"
        }
      ]
    },
    {
      "cell_type": "code",
      "metadata": {
        "id": "gFlA-c6Ui98t",
        "colab_type": "code",
        "colab": {
          "base_uri": "https://localhost:8080/",
          "height": 34
        },
        "outputId": "76cb60ec-0c44-41e8-8220-266d6e8beb0c"
      },
      "source": [
        "type(x4)"
      ],
      "execution_count": 21,
      "outputs": [
        {
          "output_type": "execute_result",
          "data": {
            "text/plain": [
              "dask.dataframe.core.DataFrame"
            ]
          },
          "metadata": {
            "tags": []
          },
          "execution_count": 21
        }
      ]
    }
  ]
}